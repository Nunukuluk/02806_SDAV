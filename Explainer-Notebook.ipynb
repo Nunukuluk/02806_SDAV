{
 "cells": [
  {
   "cell_type": "markdown",
   "metadata": {},
   "source": [
    "# Explainer Notebook\n",
    "By Mariana Alves Monteiro (s193155), Nynne Kajs (s193156) & Piriya Sureshkumar (s184302)"
   ]
  },
  {
   "cell_type": "markdown",
   "metadata": {},
   "source": [
    "## 1. Motivation"
   ]
  },
  {
   "cell_type": "markdown",
   "metadata": {},
   "source": [
    "This project uses the NYPD Motor Vehicle Collisions — Crashes dataset published by NYC OpenData, available [here](https://data.cityofnewyork.us/Public-Safety/Motor-Vehicle-Collisions-Crashes/h9gi-nx95). The dataset contains data from 2012 to present. There are around 1.68M rows, each representing a crash event. The dataset contains 29 attributes with the most vital being: `CRASH DATE`, `CRASH TIME`,`LATITUDE`, `LONGITUDE`, `NUMBER OF PERSONS INJURED`, `NUMBER OF PERSONS KILLED`, `NUMBER OF PEDESTRIANS INJURED`, `NUMBER OF PEDESTRIANS KILLED`, `NUMBER OF CYCLIST INJURED`, `NUMBER OF CYCLIST KILLED`, `NUMBER OF MOTORIST INJURED`, `CONTRIBUTING FACTOR VEHICLE 1`. The dataset has a size of 362,560 KB\n",
    "\n",
    "Furthermore, we worked with the Traffic Volume Counts dataset, likewise published by NYC OpenData, available [here](https://data.cityofnewyork.us/Transportation/Traffic-Volume-Counts-2014-2018-/ertz-hr4r). This dataset contains data from 2014 to 2018. There are 21.45K rows, each representing traffic flow information. The dataset has 31 attributes, including:  `Date`, `Hour`, ‘Roadway Name’, and ‘Direction’. The dataset has a size of 3.38 KB.\n",
    "\n",
    "These datasets were chosen because it was found to be interesting to work with traffic accidents, and the datasets seemed to be comprehensive. Since city data has been the main focus of this course, it was believed that the knowledge and skills gained throughout this course could really be expressed when choosing to work with a city dataset.\n",
    "\n",
    "For the end user’s experience, it was desired to have the website be like a blogpost. The user should be guided through a story, however to engage the user more into the material, the user was given some control over what they were presented with. This was realized by having most plots being interactive, so the curious user could explore the visualizations further than what was presented in the text. It was desired to have a clear research question, so it was easy for the user to see the red thread in what was being presented, and hopefully the user would learn something new being taken through the presented visual story.\n",
    "\n"
   ]
  },
  {
   "cell_type": "markdown",
   "metadata": {},
   "source": [
    "## 2. Basic stats"
   ]
  },
  {
   "cell_type": "markdown",
   "metadata": {},
   "source": [
    "The datasets contain 29 columns and a considerable number of NAN values. For nearly all rows, time and date are noted but many of the other attributes are NAN values. It was decided not to drop any rows permanently when working with the data. Instead, the rows that contains NAN values for an attribute were dropped if that attribute is essential for a plot that is being  made. For example, all rows containing NAN values for latitude or longitude were dropped when making heat maps. The authors are aware that this could be a problem if the NAN values are assigned systematically. \n",
    "\n",
    "The most noteworthy points from the exploratory analysis will be described here. The exploratory data analysis process started by plotting the number of pedestrians and cyclists killed every year from 2013 to 2019. Here it was seen that even though the number of accidents seemed to be decreasing from 2016 to 2018, there was an increase in 2019. This indicates that the Vision Zero program placed by Bill de Blasio in 2014 might not be unfolding as desired. Following this, a pie chart was used to identify what could be the contributing factors in the death of cyclists and pedestrians involved in traffic accidents in the same year. The major contributors were driver inattention/distraction, failure to yield, and disregard to traffic lights. A correlation matrix of all attributes in the dataset was then plotted in order to find whether there are any correlations between these. No noteworthy correlations were found from this other than a negative correlation with the latitude and longitude attributes. Following this, a thorough investigation into temporal patterns of accidents were conducted. Here it was realized that there is a strong indication that the number of occurring accidents is related to the hour of the day. It was seen that crashes were most likely to occur during daytime, particularly during rush hours, however it was seen that only looking at nighttime hours, accidents were more likely to occur in the weekend. It was speculated whether weather has an influence on the accident rate, since there were less accidents in the coldest months in the year January and February, and generally less accidents for bicyclists in the winter. It was seen that combining the data for injured and killed, the accident rate for pedestrians and cyclists had been steady for all years in the dataset, however for motorists, the rate is increasing. \n",
    "\n",
    "The heatmaps in the exploratory data analysis part showed that there were obvious trends related to accidents and locations. Most noteworthy was the fact that the accident density was highest in Manhattan. \n"
   ]
  },
  {
   "cell_type": "markdown",
   "metadata": {},
   "source": [
    "## 3. Data analysis"
   ]
  },
  {
   "cell_type": "markdown",
   "metadata": {},
   "source": [
    "There were two elements that were the primary focus in the data analysis. One, comparing the patterns in traffic accidents with the traffic flow, i.e. number of motor vehicles on the road. Two, looking into whether there are patterns between likelihood of victim type and parts of the city. \n",
    "\n",
    "The Traffic Volume Counts (2014-2018) dataset was included because it was desired to investigate whether the pattern in traffic accidents could be explained by the traffic congestion, since the exploratory data analysis showed that there were more accidents happening during rush hours. The number of vehicles on the road in the traffic volume dataset are counted for every hour on specific streets. There are no missing values in this dataset. To be able to compare the two datasets, the traffic counts have been aggregated for every hour in the day. Since the traffic counts have been conducted on the same streets throughout the whole dataset, this will give a good approximation of the overall traffic situation in NYC in a specific hour on a specific day. The data was aggregated for every hour of the day, meaning that fx. 1-2pm is aggregated for all days in the datasets. Using a linear regression model was made to predict accidents based on traffic flow and an $R^{2}$ score of 0.95 was achieved. This model was fairly good at predicting the number of accidents, but a weak point is that the whole dataset upon which it is trained only consists of 24 data points. However, this shows that there is a positive relationship between the number of accidents and traffic volume count. Even though traffic volume count alone is not enough to predict the number of accidents, it would make sense to include the dataset if a bigger prediction model was to be built. \n",
    "\n",
    "A machine learning model was also built to predict the most likely victim type (pedestrian, cyclist or motorist) for a given location. KNN was used for this purpose and the model reached an accuracy of 60%. It is believed that this low accuracy achieved by the model is likely due to the fact that it is difficult to predict the right class for locations that could all be quite similar. Especially in the Manhattan region of New York, all victim types have a large number of accidents occuring in this region. It was also noticed that when trying to optimize the model to perform better and therefore reach a higher accuracy, the model became better at classifying the majority of the points as the class with the highest amounts of data. This is evident since the classes are highly unbalanced. Nonetheless, even with a model that performs suboptimally, it is still able to capture the desired trends from the data. For example, it predicts pedestrians and cyclists in the more central region of the city and this makes sense when looking at what has been learnt from the geographical trends of each of the classes. Utilizing more data such as time, day, weather, traffic volume count etc. a powerful model could potentially be built to predict victim types, and could be used to help allocate appropriate city ressources.\n"
   ]
  },
  {
   "cell_type": "markdown",
   "metadata": {},
   "source": [
    "## 4. Genre"
   ]
  },
  {
   "cell_type": "markdown",
   "metadata": {},
   "source": [
    "It was chosen to let the data story follow an interactive slideshow structure (Segel and Heer, 2010) in order to better guide the user through the project. It differs from a typical interactive slideshow structure in the sense that everything is presented in one continuous file, but is however separated by sections, mimicking a type of slide show. By having interactive plots, the user is allowed to explore the presentation, however the flow of the presentation is created by the authors. The implemented structure allows the user to set the pace for the story telling and repeat parts of the story if needed.\n",
    "For the three tools in Visual Narrative (Segel and Heer, 2010), this project utilizes parts of visual structuring in the form of  timebars for the time lapse of the heatmaps, parts of highlighting in the form of zoom for all geographical maps, and no parts for the transition guidance given by the article, however this project utilizes section intros and conclusions as a type of transition guidance.\n",
    "For the three tools in Narrative Structure (Segel and Heer, 2010), this project utilizes a linear ordering, parts of interactivity including among other hovering in the pie chart, selection and filtering in the bar plots, navigation buttons in the maps, and parts of messaging including captions, annotations, and headlines for all plots, introductory text for all parts introduced, and summary texts.\n",
    "\n",
    "\n"
   ]
  },
  {
   "cell_type": "markdown",
   "metadata": {},
   "source": [
    "## 5. Visualizations"
   ]
  },
  {
   "cell_type": "markdown",
   "metadata": {},
   "source": [
    "In this section, the visualization types will be described in the order in which they are presented in the story for the project so as to argue for the chosen order.\n",
    "\n",
    "**Deaths per year**\n",
    "A bar plot was chosen to visualize this data since it would make it easier to compare the number of accidents for every year by using the height of the bar plot, as bar plots are powerful for providing an immediate and accurate overview of differences in quantities.\n",
    "\n",
    "**Contributing factors responsible for the death of pedestrians/cyclists involved in traffic accidents in 2019**\n",
    "A pie chart was chosen for this plot as it provides a general metric to compare the contributing factors between each other in terms of their proportions/weight. The intention from this graph was to make the reader of the most prominent factors which can be identified by the size of the slice in the pie. Additionally, it is possible to hover over the individual slices to find the exact values. \n",
    "\n",
    "**Correlation matrix**  \n",
    "The correlation matrix is used to visualize how the attributes are correlated. This is the standard way of visualizing the correlation between attributes, which is why it was done in this project. \n",
    "\n",
    "**Temporal Patterns**  \n",
    "To visualize how the number of accidents are distributed for different temporal data, barplots were used. Again, barplots are good for visualizing differences in quantities. Furthermore, utilizing bar plots made more sense than for example using continuous graphs because a barplot easily visualizes the bins that the data is grouped into. Additionally, since it was desired to plot data for all victim types, bar plots allowed for plotting all victim types together without cluttering the plot, still allowing for the reader to easily compare the types.\n",
    "\n",
    "**Heat maps**  \n",
    "To investigate the spatial data, heatmaps were chosen. Heatmaps provide a valuable overview of the density of the data distributed across the city compared with plotting every location using a scatter plot over the map. Additionally, a time-lapse was created in order to visualize the spatial information in conjunction with temporal data. A time-lapse provides a great way to get insights on  whether there are any relationships between the two.\n",
    "\n",
    "**Traffic Volume Count**  \n",
    "When the traffic volume count is compared to the number of accidents, bar plots were again used to visualize, this time, similarities in quantities. Furthermore, a scatter plot was used to investigate whether there was a linear relationship between the two. This allowed for easily visualizing that there was a positive correlation between the two. Furthermore, since a linear regression model was fitted to the data, it is typical to visualize a 2D dataset in this way before fitting a model. A next step could have been to visualize the linear regression model in the same plot.\n",
    "\n",
    "**Predicting Victim Types**\n",
    "To show the predictions for the KNN model for the most likely victim type based on location, a map was used in which every location used for predictions were plotted in a color representing the prediction. Due to the low accuracy of 60% reached by the built KNN model for this purpose, it was thought that by plotting the predictions in a map and comparing it to the actual data, it could give further intuition about whether the model was able to capture any trends. This did indeed give a very different impression of the predictions of the model than simply using the accuracy.\n",
    "\n"
   ]
  },
  {
   "cell_type": "markdown",
   "metadata": {},
   "source": [
    "## 6. Discussion"
   ]
  },
  {
   "cell_type": "markdown",
   "metadata": {},
   "source": [
    "It is believed that what makes this project strong is the clear storyline from start to finish, and the visualizations used to accompany the storyline. The project has a clearly stated problem statement in the beginning backed by research, and every choice made throughout the project in regards to data analysis is made in the attempts to investigate and solve the problem. For the visualizations, it is believed there is a good variety in types of visualizations, from bar plots, pie charts, and scatter plots, to heatmaps, images, videos, and having the majority of the visualizations made interactive is believed to add a lot of value to the user.\n",
    "\n",
    "One of the things that is believed to require more work in this project is the machine learning for predicting victim types. Before including temporal data for the predictions, they cannot be used for meaningful purposes. The collaborators of this project spent a lot of time trying to incorporate machine learning for spatial data and temporal, but the results are still far from what was desired, since only using spatial data was achieved. If the project continued for longer, this is an area that the collaborators would want to improve. \n"
   ]
  },
  {
   "cell_type": "markdown",
   "metadata": {},
   "source": [
    "## 7. Contributions"
   ]
  },
  {
   "cell_type": "markdown",
   "metadata": {},
   "source": [
    "|                                   | Mariana (s193155) | Nynne (193156) | Piriya (s184302) |\n",
    "|-----------------------------------|:-----------------:|:--------------:|:----------------:|\n",
    "| 1 Introduction                    |         X         |        X       |                  |\n",
    "| 2 Dataset                         |                   |                |         X        |\n",
    "| 3 Temporal Patterns               |                   |        X       |                  |\n",
    "| 4 Exploring Geographical Patterns |         X         |                |         X        |\n",
    "| 5 POV from a Biker                |                   |        X       |                  |\n",
    "| 6 Traffic Flow                    |                   |        X       |         X        |\n",
    "| 7 Predicting Victim Type          |         X         |        X       |                  |\n",
    "| 8 Discussion & Conclusion         |         X         |        X       |                  |\n",
    "| Explainer Notebook                |         X         |        X       |         X        |"
   ]
  },
  {
   "cell_type": "markdown",
   "metadata": {},
   "source": [
    "## References"
   ]
  },
  {
   "cell_type": "markdown",
   "metadata": {},
   "source": [
    "E. Segel and J. Heer, \"Narrative Visualization: Telling Stories with Data,\" in IEEE Transactions on Visualization and Computer Graphics, vol. 16, no. 6, pp. 1139-1148, Nov.-Dec. 2010."
   ]
  }
 ],
 "metadata": {
  "kernelspec": {
   "display_name": "Python 3",
   "language": "python",
   "name": "python3"
  },
  "language_info": {
   "codemirror_mode": {
    "name": "ipython",
    "version": 3
   },
   "file_extension": ".py",
   "mimetype": "text/x-python",
   "name": "python",
   "nbconvert_exporter": "python",
   "pygments_lexer": "ipython3",
   "version": "3.6.10"
  }
 },
 "nbformat": 4,
 "nbformat_minor": 4
}
